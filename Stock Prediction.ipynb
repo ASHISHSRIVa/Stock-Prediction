{
 "cells": [
  {
   "cell_type": "markdown",
   "id": "8355f9cc",
   "metadata": {},
   "source": [
    "# Import Libraries"
   ]
  },
  {
   "cell_type": "code",
   "execution_count": 95,
   "id": "d9adcf52",
   "metadata": {},
   "outputs": [],
   "source": [
    "import pandas as pd\n",
    "import numpy as np\n",
    "import matplotlib.pyplot as plt\n",
    "import seaborn as sns\n",
    "import statsmodels.api as sm \n",
    "from tensorflow.keras.models import Sequential\n",
    "from tensorflow.keras.layers import Dense , LSTM\n",
    "from sklearn.preprocessing import MinMaxScaler"
   ]
  },
  {
   "cell_type": "markdown",
   "id": "20ed8d18",
   "metadata": {},
   "source": [
    "# Import Dataset"
   ]
  },
  {
   "cell_type": "code",
   "execution_count": null,
   "id": "8ffc9ce4",
   "metadata": {},
   "outputs": [],
   "source": [
    "dataset = pd.read_csv(\"Automobile.csv\")"
   ]
  },
  {
   "cell_type": "code",
   "execution_count": 18,
   "id": "b125bb26-03dd-4889-8225-924786b2e169",
   "metadata": {},
   "outputs": [
    {
     "data": {
      "text/html": [
       "<div>\n",
       "<style scoped>\n",
       "    .dataframe tbody tr th:only-of-type {\n",
       "        vertical-align: middle;\n",
       "    }\n",
       "\n",
       "    .dataframe tbody tr th {\n",
       "        vertical-align: top;\n",
       "    }\n",
       "\n",
       "    .dataframe thead th {\n",
       "        text-align: right;\n",
       "    }\n",
       "</style>\n",
       "<table border=\"1\" class=\"dataframe\">\n",
       "  <thead>\n",
       "    <tr style=\"text-align: right;\">\n",
       "      <th></th>\n",
       "      <th>name</th>\n",
       "      <th>mpg</th>\n",
       "      <th>cylinders</th>\n",
       "      <th>displacement</th>\n",
       "      <th>horsepower</th>\n",
       "      <th>weight</th>\n",
       "      <th>acceleration</th>\n",
       "      <th>model_year</th>\n",
       "      <th>origin</th>\n",
       "    </tr>\n",
       "  </thead>\n",
       "  <tbody>\n",
       "    <tr>\n",
       "      <th>0</th>\n",
       "      <td>chevrolet chevelle malibu</td>\n",
       "      <td>18.0</td>\n",
       "      <td>8</td>\n",
       "      <td>307.0</td>\n",
       "      <td>130.0</td>\n",
       "      <td>3504</td>\n",
       "      <td>12.0</td>\n",
       "      <td>70</td>\n",
       "      <td>usa</td>\n",
       "    </tr>\n",
       "    <tr>\n",
       "      <th>1</th>\n",
       "      <td>buick skylark 320</td>\n",
       "      <td>15.0</td>\n",
       "      <td>8</td>\n",
       "      <td>350.0</td>\n",
       "      <td>165.0</td>\n",
       "      <td>3693</td>\n",
       "      <td>11.5</td>\n",
       "      <td>70</td>\n",
       "      <td>usa</td>\n",
       "    </tr>\n",
       "    <tr>\n",
       "      <th>2</th>\n",
       "      <td>plymouth satellite</td>\n",
       "      <td>18.0</td>\n",
       "      <td>8</td>\n",
       "      <td>318.0</td>\n",
       "      <td>150.0</td>\n",
       "      <td>3436</td>\n",
       "      <td>11.0</td>\n",
       "      <td>70</td>\n",
       "      <td>usa</td>\n",
       "    </tr>\n",
       "    <tr>\n",
       "      <th>3</th>\n",
       "      <td>amc rebel sst</td>\n",
       "      <td>16.0</td>\n",
       "      <td>8</td>\n",
       "      <td>304.0</td>\n",
       "      <td>150.0</td>\n",
       "      <td>3433</td>\n",
       "      <td>12.0</td>\n",
       "      <td>70</td>\n",
       "      <td>usa</td>\n",
       "    </tr>\n",
       "    <tr>\n",
       "      <th>4</th>\n",
       "      <td>ford torino</td>\n",
       "      <td>17.0</td>\n",
       "      <td>8</td>\n",
       "      <td>302.0</td>\n",
       "      <td>140.0</td>\n",
       "      <td>3449</td>\n",
       "      <td>10.5</td>\n",
       "      <td>70</td>\n",
       "      <td>usa</td>\n",
       "    </tr>\n",
       "  </tbody>\n",
       "</table>\n",
       "</div>"
      ],
      "text/plain": [
       "                        name   mpg  cylinders  displacement  horsepower  \\\n",
       "0  chevrolet chevelle malibu  18.0          8         307.0       130.0   \n",
       "1          buick skylark 320  15.0          8         350.0       165.0   \n",
       "2         plymouth satellite  18.0          8         318.0       150.0   \n",
       "3              amc rebel sst  16.0          8         304.0       150.0   \n",
       "4                ford torino  17.0          8         302.0       140.0   \n",
       "\n",
       "   weight  acceleration  model_year origin  \n",
       "0    3504          12.0          70    usa  \n",
       "1    3693          11.5          70    usa  \n",
       "2    3436          11.0          70    usa  \n",
       "3    3433          12.0          70    usa  \n",
       "4    3449          10.5          70    usa  "
      ]
     },
     "execution_count": 18,
     "metadata": {},
     "output_type": "execute_result"
    }
   ],
   "source": [
    "dataset.head()"
   ]
  },
  {
   "cell_type": "code",
   "execution_count": 79,
   "id": "f1a589ff-b166-4afb-99c7-c96eea0ac0a0",
   "metadata": {},
   "outputs": [
    {
     "name": "stdout",
     "output_type": "stream",
     "text": [
      "<class 'pandas.core.frame.DataFrame'>\n",
      "RangeIndex: 398 entries, 0 to 397\n",
      "Data columns (total 9 columns):\n",
      " #   Column        Non-Null Count  Dtype  \n",
      "---  ------        --------------  -----  \n",
      " 0   name          398 non-null    object \n",
      " 1   mpg           398 non-null    float64\n",
      " 2   cylinders     398 non-null    int64  \n",
      " 3   displacement  398 non-null    float64\n",
      " 4   horsepower    392 non-null    float64\n",
      " 5   weight        398 non-null    int64  \n",
      " 6   acceleration  398 non-null    float64\n",
      " 7   model_year    398 non-null    int64  \n",
      " 8   origin        398 non-null    object \n",
      "dtypes: float64(4), int64(3), object(2)\n",
      "memory usage: 28.1+ KB\n"
     ]
    }
   ],
   "source": [
    "dataset.info()"
   ]
  },
  {
   "cell_type": "code",
   "execution_count": 38,
   "id": "34bdd572-b31d-4a6a-8a47-112cc36906ed",
   "metadata": {},
   "outputs": [
    {
     "data": {
      "text/html": [
       "<div>\n",
       "<style scoped>\n",
       "    .dataframe tbody tr th:only-of-type {\n",
       "        vertical-align: middle;\n",
       "    }\n",
       "\n",
       "    .dataframe tbody tr th {\n",
       "        vertical-align: top;\n",
       "    }\n",
       "\n",
       "    .dataframe thead th {\n",
       "        text-align: right;\n",
       "    }\n",
       "</style>\n",
       "<table border=\"1\" class=\"dataframe\">\n",
       "  <thead>\n",
       "    <tr style=\"text-align: right;\">\n",
       "      <th></th>\n",
       "      <th>name</th>\n",
       "      <th>mpg</th>\n",
       "      <th>cylinders</th>\n",
       "      <th>displacement</th>\n",
       "      <th>horsepower</th>\n",
       "      <th>weight</th>\n",
       "      <th>acceleration</th>\n",
       "      <th>model_year</th>\n",
       "      <th>origin</th>\n",
       "    </tr>\n",
       "  </thead>\n",
       "  <tbody>\n",
       "    <tr>\n",
       "      <th>393</th>\n",
       "      <td>ford mustang gl</td>\n",
       "      <td>27.0</td>\n",
       "      <td>4</td>\n",
       "      <td>140.0</td>\n",
       "      <td>86.0</td>\n",
       "      <td>2790</td>\n",
       "      <td>15.6</td>\n",
       "      <td>82</td>\n",
       "      <td>usa</td>\n",
       "    </tr>\n",
       "    <tr>\n",
       "      <th>394</th>\n",
       "      <td>vw pickup</td>\n",
       "      <td>44.0</td>\n",
       "      <td>4</td>\n",
       "      <td>97.0</td>\n",
       "      <td>52.0</td>\n",
       "      <td>2130</td>\n",
       "      <td>24.6</td>\n",
       "      <td>82</td>\n",
       "      <td>europe</td>\n",
       "    </tr>\n",
       "    <tr>\n",
       "      <th>395</th>\n",
       "      <td>dodge rampage</td>\n",
       "      <td>32.0</td>\n",
       "      <td>4</td>\n",
       "      <td>135.0</td>\n",
       "      <td>84.0</td>\n",
       "      <td>2295</td>\n",
       "      <td>11.6</td>\n",
       "      <td>82</td>\n",
       "      <td>usa</td>\n",
       "    </tr>\n",
       "    <tr>\n",
       "      <th>396</th>\n",
       "      <td>ford ranger</td>\n",
       "      <td>28.0</td>\n",
       "      <td>4</td>\n",
       "      <td>120.0</td>\n",
       "      <td>79.0</td>\n",
       "      <td>2625</td>\n",
       "      <td>18.6</td>\n",
       "      <td>82</td>\n",
       "      <td>usa</td>\n",
       "    </tr>\n",
       "    <tr>\n",
       "      <th>397</th>\n",
       "      <td>chevy s-10</td>\n",
       "      <td>31.0</td>\n",
       "      <td>4</td>\n",
       "      <td>119.0</td>\n",
       "      <td>82.0</td>\n",
       "      <td>2720</td>\n",
       "      <td>19.4</td>\n",
       "      <td>82</td>\n",
       "      <td>usa</td>\n",
       "    </tr>\n",
       "  </tbody>\n",
       "</table>\n",
       "</div>"
      ],
      "text/plain": [
       "                name   mpg  cylinders  displacement  horsepower  weight  \\\n",
       "393  ford mustang gl  27.0          4         140.0        86.0    2790   \n",
       "394        vw pickup  44.0          4          97.0        52.0    2130   \n",
       "395    dodge rampage  32.0          4         135.0        84.0    2295   \n",
       "396      ford ranger  28.0          4         120.0        79.0    2625   \n",
       "397       chevy s-10  31.0          4         119.0        82.0    2720   \n",
       "\n",
       "     acceleration  model_year  origin  \n",
       "393          15.6          82     usa  \n",
       "394          24.6          82  europe  \n",
       "395          11.6          82     usa  \n",
       "396          18.6          82     usa  \n",
       "397          19.4          82     usa  "
      ]
     },
     "execution_count": 38,
     "metadata": {},
     "output_type": "execute_result"
    }
   ],
   "source": [
    "dataset.tail()"
   ]
  },
  {
   "cell_type": "markdown",
   "id": "779996b1",
   "metadata": {},
   "source": [
    "# Data Preprocess"
   ]
  },
  {
   "cell_type": "code",
   "execution_count": 8,
   "id": "8ebcca25-860e-4764-80b1-611dbfdf9b94",
   "metadata": {},
   "outputs": [
    {
     "data": {
      "text/plain": [
       "name            0\n",
       "mpg             0\n",
       "cylinders       0\n",
       "displacement    0\n",
       "horsepower      6\n",
       "weight          0\n",
       "acceleration    0\n",
       "model_year      0\n",
       "origin          0\n",
       "dtype: int64"
      ]
     },
     "execution_count": 8,
     "metadata": {},
     "output_type": "execute_result"
    }
   ],
   "source": [
    "dataset.isnull().sum()"
   ]
  },
  {
   "cell_type": "code",
   "execution_count": 20,
   "id": "9ce84202-83b3-474b-b1cd-192920f0bc56",
   "metadata": {},
   "outputs": [],
   "source": [
    "dataset_horsepower=dataset.reset_index()['horsepower']"
   ]
  },
  {
   "cell_type": "code",
   "execution_count": 21,
   "id": "98e0b9fb-703d-434f-8261-fe976a3ade24",
   "metadata": {},
   "outputs": [
    {
     "data": {
      "text/plain": [
       "[<matplotlib.lines.Line2D at 0x1aab112a6d0>]"
      ]
     },
     "execution_count": 21,
     "metadata": {},
     "output_type": "execute_result"
    },
    {
     "data": {
      "image/png": "[encoded data removed]",
      "text/plain": [
       "<Figure size 640x480 with 1 Axes>"
      ]
     },
     "metadata": {},
     "output_type": "display_data"
    }
   ],
   "source": [
    "plt.plot(dataset_horsepower)"
   ]
  },
  {
   "cell_type": "code",
   "execution_count": 96,
   "id": "c911ab2e",
   "metadata": {},
   "outputs": [
    {
     "data": {
      "text/plain": [
       "array([[0.45652174],\n",
       "       [0.64673913],\n",
       "       [0.56521739],\n",
       "       [0.56521739],\n",
       "       [0.51086957],\n",
       "       [0.82608696],\n",
       "       [0.94565217],\n",
       "       [0.91847826],\n",
       "       [0.97282609],\n",
       "       [0.7826087 ],\n",
       "       [0.67391304],\n",
       "       [0.61956522],\n",
       "       [0.56521739],\n",
       "       [0.97282609],\n",
       "       [0.26630435],\n",
       "       [0.26630435],\n",
       "       [0.27717391],\n",
       "       [0.21195652],\n",
       "       [0.22826087],\n",
       "       [0.        ],\n",
       "       [0.22282609],\n",
       "       [0.23913043],\n",
       "       [0.26630435],\n",
       "       [0.36413043],\n",
       "       [0.23913043],\n",
       "       [0.91847826],\n",
       "       [0.83695652],\n",
       "       [0.89130435],\n",
       "       [0.79891304],\n",
       "       [0.22826087],\n",
       "       [0.23913043],\n",
       "       [0.26630435],\n",
       "       [       nan],\n",
       "       [0.29347826],\n",
       "       [0.32065217],\n",
       "       [0.29347826],\n",
       "       [0.22826087],\n",
       "       [0.29347826],\n",
       "       [0.64673913],\n",
       "       [0.70108696],\n",
       "       [0.58152174],\n",
       "       [0.56521739],\n",
       "       [0.72826087],\n",
       "       [0.67391304],\n",
       "       [0.70108696],\n",
       "       [0.34782609],\n",
       "       [0.14130435],\n",
       "       [0.29347826],\n",
       "       [0.22826087],\n",
       "       [0.2173913 ],\n",
       "       [0.23913043],\n",
       "       [0.13043478],\n",
       "       [0.16304348],\n",
       "       [0.10326087],\n",
       "       [0.125     ],\n",
       "       [0.07608696],\n",
       "       [0.13043478],\n",
       "       [0.26630435],\n",
       "       [0.18478261],\n",
       "       [0.04347826],\n",
       "       [0.23913043],\n",
       "       [0.2173913 ],\n",
       "       [0.64673913],\n",
       "       [0.70108696],\n",
       "       [0.56521739],\n",
       "       [0.58152174],\n",
       "       [0.56521739],\n",
       "       [0.88043478],\n",
       "       [0.5923913 ],\n",
       "       [0.61956522],\n",
       "       [0.7826087 ],\n",
       "       [0.27717391],\n",
       "       [0.56521739],\n",
       "       [0.45652174],\n",
       "       [0.51086957],\n",
       "       [0.56521739],\n",
       "       [0.35869565],\n",
       "       [0.16304348],\n",
       "       [0.22282609],\n",
       "       [0.125     ],\n",
       "       [0.2173913 ],\n",
       "       [0.25      ],\n",
       "       [0.27717391],\n",
       "       [0.18478261],\n",
       "       [0.22826087],\n",
       "       [0.70108696],\n",
       "       [0.56521739],\n",
       "       [0.53804348],\n",
       "       [0.49456522],\n",
       "       [0.56521739],\n",
       "       [0.82608696],\n",
       "       [0.56521739],\n",
       "       [0.60869565],\n",
       "       [0.56521739],\n",
       "       [0.91847826],\n",
       "       [0.97282609],\n",
       "       [0.70108696],\n",
       "       [0.32065217],\n",
       "       [0.29347826],\n",
       "       [0.29347826],\n",
       "       [0.22826087],\n",
       "       [0.26630435],\n",
       "       [0.        ],\n",
       "       [0.56521739],\n",
       "       [0.6576087 ],\n",
       "       [0.67391304],\n",
       "       [0.72826087],\n",
       "       [0.29347826],\n",
       "       [0.22826087],\n",
       "       [0.14130435],\n",
       "       [0.26086957],\n",
       "       [0.23913043],\n",
       "       [0.21195652],\n",
       "       [0.33152174],\n",
       "       [0.23913043],\n",
       "       [0.53804348],\n",
       "       [1.        ],\n",
       "       [0.01630435],\n",
       "       [0.1576087 ],\n",
       "       [0.24456522],\n",
       "       [0.35869565],\n",
       "       [0.56521739],\n",
       "       [0.34782609],\n",
       "       [0.41304348],\n",
       "       [0.72826087],\n",
       "       [0.26630435],\n",
       "       [       nan],\n",
       "       [0.29347826],\n",
       "       [0.29347826],\n",
       "       [0.11413043],\n",
       "       [0.18478261],\n",
       "       [0.10326087],\n",
       "       [0.1576087 ],\n",
       "       [0.29347826],\n",
       "       [0.34782609],\n",
       "       [0.32065217],\n",
       "       [0.51086957],\n",
       "       [0.56521739],\n",
       "       [0.56521739],\n",
       "       [0.51086957],\n",
       "       [0.56521739],\n",
       "       [0.20108696],\n",
       "       [0.11413043],\n",
       "       [0.17391304],\n",
       "       [0.0326087 ],\n",
       "       [0.08152174],\n",
       "       [0.1576087 ],\n",
       "       [0.1576087 ],\n",
       "       [0.1576087 ],\n",
       "       [0.27717391],\n",
       "       [0.25543478],\n",
       "       [0.11413043],\n",
       "       [0.26630435],\n",
       "       [0.32065217],\n",
       "       [0.14130435],\n",
       "       [0.14130435],\n",
       "       [0.67391304],\n",
       "       [0.53804348],\n",
       "       [0.56521739],\n",
       "       [0.55434783],\n",
       "       [0.34782609],\n",
       "       [0.32065217],\n",
       "       [0.34782609],\n",
       "       [0.26630435],\n",
       "       [0.34782609],\n",
       "       [0.34782609],\n",
       "       [0.45108696],\n",
       "       [0.1576087 ],\n",
       "       [0.20108696],\n",
       "       [0.29347826],\n",
       "       [0.17391304],\n",
       "       [0.27173913],\n",
       "       [0.13586957],\n",
       "       [0.27717391],\n",
       "       [0.27717391],\n",
       "       [0.13043478],\n",
       "       [0.23913043],\n",
       "       [0.26630435],\n",
       "       [0.22826087],\n",
       "       [0.2826087 ],\n",
       "       [0.375     ],\n",
       "       [0.03804348],\n",
       "       [0.2173913 ],\n",
       "       [0.19021739],\n",
       "       [0.25      ],\n",
       "       [0.17934783],\n",
       "       [0.20108696],\n",
       "       [0.51086957],\n",
       "       [0.56521739],\n",
       "       [0.40217391],\n",
       "       [0.57608696],\n",
       "       [0.29347826],\n",
       "       [0.32065217],\n",
       "       [0.19021739],\n",
       "       [0.23913043],\n",
       "       [0.0326087 ],\n",
       "       [0.07608696],\n",
       "       [0.13043478],\n",
       "       [0.03804348],\n",
       "       [0.29347826],\n",
       "       [0.17391304],\n",
       "       [0.34782609],\n",
       "       [0.26630435],\n",
       "       [0.13586957],\n",
       "       [0.13043478],\n",
       "       [0.1576087 ],\n",
       "       [0.14130435],\n",
       "       [0.30434783],\n",
       "       [0.56521739],\n",
       "       [0.22826087],\n",
       "       [0.33695652],\n",
       "       [0.40217391],\n",
       "       [0.72826087],\n",
       "       [0.53804348],\n",
       "       [0.45652174],\n",
       "       [0.56521739],\n",
       "       [0.11956522],\n",
       "       [0.18478261],\n",
       "       [0.06521739],\n",
       "       [0.27173913],\n",
       "       [0.13043478],\n",
       "       [0.53804348],\n",
       "       [0.34782609],\n",
       "       [0.53804348],\n",
       "       [0.45652174],\n",
       "       [0.34782609],\n",
       "       [0.32065217],\n",
       "       [0.29347826],\n",
       "       [0.2826087 ],\n",
       "       [0.72826087],\n",
       "       [0.67391304],\n",
       "       [0.7826087 ],\n",
       "       [0.55978261],\n",
       "       [0.17391304],\n",
       "       [0.22826087],\n",
       "       [0.1576087 ],\n",
       "       [0.23369565],\n",
       "       [0.0923913 ],\n",
       "       [0.20108696],\n",
       "       [0.11413043],\n",
       "       [0.17391304],\n",
       "       [0.27717391],\n",
       "       [0.34782609],\n",
       "       [0.34782609],\n",
       "       [0.01086957],\n",
       "       [0.10869565],\n",
       "       [0.0326087 ],\n",
       "       [0.13043478],\n",
       "       [0.07608696],\n",
       "       [0.34782609],\n",
       "       [0.51086957],\n",
       "       [0.50543478],\n",
       "       [0.32065217],\n",
       "       [0.26630435],\n",
       "       [0.21195652],\n",
       "       [0.22826087],\n",
       "       [0.29347826],\n",
       "       [0.23913043],\n",
       "       [0.32065217],\n",
       "       [0.21195652],\n",
       "       [0.34782609],\n",
       "       [0.40217391],\n",
       "       [0.53804348],\n",
       "       [0.64673913],\n",
       "       [0.50543478],\n",
       "       [0.51086957],\n",
       "       [0.11956522],\n",
       "       [0.26630435],\n",
       "       [0.27717391],\n",
       "       [0.1576087 ],\n",
       "       [0.26630435],\n",
       "       [0.32065217],\n",
       "       [0.21195652],\n",
       "       [0.27717391],\n",
       "       [0.30978261],\n",
       "       [0.42934783],\n",
       "       [0.375     ],\n",
       "       [0.47282609],\n",
       "       [0.13586957],\n",
       "       [0.11956522],\n",
       "       [0.375     ],\n",
       "       [0.21195652],\n",
       "       [0.22826087],\n",
       "       [0.23913043],\n",
       "       [0.34782609],\n",
       "       [0.45652174],\n",
       "       [0.45108696],\n",
       "       [0.5       ],\n",
       "       [0.48369565],\n",
       "       [0.5923913 ],\n",
       "       [0.52173913],\n",
       "       [0.42934783],\n",
       "       [0.56521739],\n",
       "       [0.13586957],\n",
       "       [0.10326087],\n",
       "       [0.18478261],\n",
       "       [0.18478261],\n",
       "       [0.16847826],\n",
       "       [0.42934783],\n",
       "       [0.13586957],\n",
       "       [0.23913043],\n",
       "       [0.13043478],\n",
       "       [0.13043478],\n",
       "       [0.10326087],\n",
       "       [0.125     ],\n",
       "       [0.23913043],\n",
       "       [0.375     ],\n",
       "       [0.375     ],\n",
       "       [0.23913043],\n",
       "       [0.16304348],\n",
       "       [0.07608696],\n",
       "       [0.13043478],\n",
       "       [0.10326087],\n",
       "       [0.23913043],\n",
       "       [0.22826087],\n",
       "       [0.23913043],\n",
       "       [0.23913043],\n",
       "       [0.17391304],\n",
       "       [0.23913043],\n",
       "       [0.1576087 ],\n",
       "       [0.25      ],\n",
       "       [0.1576087 ],\n",
       "       [0.10326087],\n",
       "       [0.32065217],\n",
       "       [0.10326087],\n",
       "       [0.01086957],\n",
       "       [0.01086957],\n",
       "       [0.11413043],\n",
       "       [0.11413043],\n",
       "       [0.11413043],\n",
       "       [       nan],\n",
       "       [0.11413043],\n",
       "       [0.08695652],\n",
       "       [0.4673913 ],\n",
       "       [0.29347826],\n",
       "       [0.22826087],\n",
       "       [       nan],\n",
       "       [0.14130435],\n",
       "       [0.20652174],\n",
       "       [0.20652174],\n",
       "       [0.25      ],\n",
       "       [0.34782609],\n",
       "       [0.20652174],\n",
       "       [0.06521739],\n",
       "       [0.09782609],\n",
       "       [0.07608696],\n",
       "       [0.11413043],\n",
       "       [0.10326087],\n",
       "       [0.08695652],\n",
       "       [0.11956522],\n",
       "       [0.0923913 ],\n",
       "       [0.10326087],\n",
       "       [0.10326087],\n",
       "       [0.15217391],\n",
       "       [       nan],\n",
       "       [0.1576087 ],\n",
       "       [0.1576087 ],\n",
       "       [0.29347826],\n",
       "       [0.15217391],\n",
       "       [0.18478261],\n",
       "       [0.16304348],\n",
       "       [0.38043478],\n",
       "       [0.40217391],\n",
       "       [0.34782609],\n",
       "       [0.32065217],\n",
       "       [0.22826087],\n",
       "       [0.21195652],\n",
       "       [0.22826087],\n",
       "       [0.22826087],\n",
       "       [0.22826087],\n",
       "       [0.21195652],\n",
       "       [0.20652174],\n",
       "       [0.23913043],\n",
       "       [0.25      ],\n",
       "       [       nan],\n",
       "       [0.15217391],\n",
       "       [0.11956522],\n",
       "       [0.11956522],\n",
       "       [0.0923913 ],\n",
       "       [0.13043478],\n",
       "       [0.22826087],\n",
       "       [0.1576087 ],\n",
       "       [0.13043478],\n",
       "       [0.11413043],\n",
       "       [0.11413043],\n",
       "       [0.11413043],\n",
       "       [0.34782609],\n",
       "       [0.21195652],\n",
       "       [0.25      ],\n",
       "       [0.35869565],\n",
       "       [0.27173913],\n",
       "       [0.20652174],\n",
       "       [0.23913043],\n",
       "       [0.2173913 ],\n",
       "       [0.0326087 ],\n",
       "       [0.20652174],\n",
       "       [0.17934783],\n",
       "       [0.19565217]])"
      ]
     },
     "execution_count": 96,
     "metadata": {},
     "output_type": "execute_result"
    }
   ],
   "source": [
    "scaler = MinMaxScaler(feature_range = (0,1))\n",
    "dataset_horsepower = scaler.fit_transform(np.array(dataset_horsepower).reshape(-1,1))\n",
    "dataset_horsepower"
   ]
  },
  {
   "cell_type": "markdown",
   "id": "b66407f2",
   "metadata": {},
   "source": [
    "# Train Test Split Dataset"
   ]
  },
  {
   "cell_type": "code",
   "execution_count": 34,
   "id": "5d1c8cc9",
   "metadata": {},
   "outputs": [],
   "source": [
    "training_size = int(len(dataset_horsepower) * 0.75)\n",
    "test_size = len(dataset_horsepower) - training_size\n",
    "train_data, test_data = dataset_horsepower[0:training_size,:], dataset_horsepower[training_size:len(dataset_horsepower),:1]"
   ]
  },
  {
   "cell_type": "code",
   "execution_count": 35,
   "id": "70fec483",
   "metadata": {},
   "outputs": [
    {
     "data": {
      "text/plain": [
       "(298, 100)"
      ]
     },
     "execution_count": 35,
     "metadata": {},
     "output_type": "execute_result"
    }
   ],
   "source": [
    "training_size,test_size"
   ]
  },
  {
   "cell_type": "code",
   "execution_count": 37,
   "id": "52e813b9",
   "metadata": {},
   "outputs": [],
   "source": [
    "def create_dataset(dataset, time_step = 1):\n",
    " dataX, dataY = [], []\n",
    " for i in range(len(dataset) - time_step - 1):\n",
    "    a = dataset[i:(i+time_step), 0]\n",
    "    dataX.append(a)\n",
    "    dataY.append(dataset[i+time_step, 0])\n",
    "    return np.array(dataX), np.array(dataY)"
   ]
  },
  {
   "cell_type": "code",
   "execution_count": 98,
   "id": "5a95358e",
   "metadata": {},
   "outputs": [],
   "source": [
    "time_step = 60\n",
    "x_train, y_train = create_dataset(train_data, time_step)\n",
    "x_test, y_test = create_dataset(test_data, time_step)"
   ]
  },
  {
   "cell_type": "markdown",
   "id": "bb5994b3",
   "metadata": {},
   "source": [
    "# Reshaping Model"
   ]
  },
  {
   "cell_type": "code",
   "execution_count": 53,
   "id": "0024bec8",
   "metadata": {},
   "outputs": [],
   "source": [
    "x_train = x_train.reshape(x_train.shape[0], x_train.shape[1], 1)\n",
    "x_test = x_test.reshape(x_test.shape[0], x_test.shape[1], 1)"
   ]
  },
  {
   "cell_type": "code",
   "execution_count": 54,
   "id": "e1a3a42d",
   "metadata": {},
   "outputs": [
    {
     "name": "stdout",
     "output_type": "stream",
     "text": [
      "(1, 10, 1)\n",
      "(1,)\n"
     ]
    },
    {
     "data": {
      "text/plain": [
       "(None, None)"
      ]
     },
     "execution_count": 54,
     "metadata": {},
     "output_type": "execute_result"
    }
   ],
   "source": [
    "print(x_train.shape), print(y_train.shape)"
   ]
  },
  {
   "cell_type": "code",
   "execution_count": 55,
   "id": "2d9febce",
   "metadata": {},
   "outputs": [
    {
     "name": "stdout",
     "output_type": "stream",
     "text": [
      "(1, 10, 1)\n",
      "(1,)\n"
     ]
    },
    {
     "data": {
      "text/plain": [
       "(None, None)"
      ]
     },
     "execution_count": 55,
     "metadata": {},
     "output_type": "execute_result"
    }
   ],
   "source": [
    "print(x_test.shape), print(y_test.shape)"
   ]
  },
  {
   "cell_type": "markdown",
   "id": "70164dba",
   "metadata": {},
   "source": [
    "# Creating LSTM Model"
   ]
  },
  {
   "cell_type": "code",
   "execution_count": 74,
   "id": "f73f26b5",
   "metadata": {},
   "outputs": [],
   "source": [
    "model = Sequential()\n",
    "model.add(LSTM(50, return_sequences = True, input_shape = (x_train.shape[1],1)))\n",
    "model.add(LSTM(30, return_sequences = False))\n",
    "model.add(Dense(1))\n",
    "model.compile(loss = 'mean_squared_error', optimizer = 'adam')"
   ]
  },
  {
   "cell_type": "code",
   "execution_count": 76,
   "id": "d726c792",
   "metadata": {},
   "outputs": [
    {
     "name": "stdout",
     "output_type": "stream",
     "text": [
      "Model: \"sequential_5\"\n",
      "_________________________________________________________________\n",
      " Layer (type)                Output Shape              Param #   \n",
      "=================================================================\n",
      " lstm_13 (LSTM)              (None, 60, 50)            10400     \n",
      "                                                                 \n",
      " lstm_14 (LSTM)              (None, 30)                9720      \n",
      "                                                                 \n",
      " dense_4 (Dense)             (None, 1)                 31        \n",
      "                                                                 \n",
      "=================================================================\n",
      "Total params: 20,151\n",
      "Trainable params: 20,151\n",
      "Non-trainable params: 0\n",
      "_________________________________________________________________\n"
     ]
    }
   ],
   "source": [
    "model.summary()"
   ]
  },
  {
   "cell_type": "code",
   "execution_count": 77,
   "id": "bf2fae8b",
   "metadata": {},
   "outputs": [
    {
     "name": "stdout",
     "output_type": "stream",
     "text": [
      "Epoch 1/20\n",
      "1/1 [==============================] - 4s 4s/step - loss: nan\n",
      "Epoch 2/20\n",
      "1/1 [==============================] - 0s 29ms/step - loss: nan\n",
      "Epoch 3/20\n",
      "1/1 [==============================] - 0s 31ms/step - loss: nan\n",
      "Epoch 4/20\n",
      "1/1 [==============================] - 0s 31ms/step - loss: nan\n",
      "Epoch 5/20\n",
      "1/1 [==============================] - 0s 30ms/step - loss: nan\n",
      "Epoch 6/20\n",
      "1/1 [==============================] - 0s 31ms/step - loss: nan\n",
      "Epoch 7/20\n",
      "1/1 [==============================] - 0s 32ms/step - loss: nan\n",
      "Epoch 8/20\n",
      "1/1 [==============================] - 0s 31ms/step - loss: nan\n",
      "Epoch 9/20\n",
      "1/1 [==============================] - 0s 31ms/step - loss: nan\n",
      "Epoch 10/20\n",
      "1/1 [==============================] - 0s 30ms/step - loss: nan\n",
      "Epoch 11/20\n",
      "1/1 [==============================] - 0s 29ms/step - loss: nan\n",
      "Epoch 12/20\n",
      "1/1 [==============================] - 0s 29ms/step - loss: nan\n",
      "Epoch 13/20\n",
      "1/1 [==============================] - 0s 30ms/step - loss: nan\n",
      "Epoch 14/20\n",
      "1/1 [==============================] - 0s 29ms/step - loss: nan\n",
      "Epoch 15/20\n",
      "1/1 [==============================] - 0s 30ms/step - loss: nan\n",
      "Epoch 16/20\n",
      "1/1 [==============================] - 0s 29ms/step - loss: nan\n",
      "Epoch 17/20\n",
      "1/1 [==============================] - 0s 29ms/step - loss: nan\n",
      "Epoch 18/20\n",
      "1/1 [==============================] - 0s 29ms/step - loss: nan\n",
      "Epoch 19/20\n",
      "1/1 [==============================] - 0s 31ms/step - loss: nan\n",
      "Epoch 20/20\n",
      "1/1 [==============================] - 0s 29ms/step - loss: nan\n"
     ]
    },
    {
     "data": {
      "text/plain": [
       "<keras.callbacks.History at 0x1aab143fe90>"
      ]
     },
     "execution_count": 77,
     "metadata": {},
     "output_type": "execute_result"
    }
   ],
   "source": [
    "model.fit(x_train, y_train, epochs=20, batch_size=64)"
   ]
  },
  {
   "cell_type": "code",
   "execution_count": 79,
   "id": "3df9113c",
   "metadata": {},
   "outputs": [
    {
     "name": "stdout",
     "output_type": "stream",
     "text": [
      "1/1 [==============================] - 1s 654ms/step\n"
     ]
    }
   ],
   "source": [
    "predictions = model.predict(x_test)\n",
    "predictions = scaler.inverse_transform(predictions)"
   ]
  },
  {
   "cell_type": "code",
   "execution_count": 82,
   "id": "b13ad0be",
   "metadata": {},
   "outputs": [
    {
     "name": "stdout",
     "output_type": "stream",
     "text": [
      "1/1 [==============================] - 0s 29ms/step\n",
      "1/1 [==============================] - 0s 27ms/step\n"
     ]
    }
   ],
   "source": [
    "train_predict = model.predict(x_train)\n",
    "test_predict = model.predict(x_test)"
   ]
  },
  {
   "cell_type": "code",
   "execution_count": 85,
   "id": "5445ba3e",
   "metadata": {},
   "outputs": [],
   "source": [
    "train_predict = scaler.inverse_transform(train_predict)\n",
    "test_predict = scaler.inverse_transform(test_predict)"
   ]
  },
  {
   "cell_type": "markdown",
   "id": "488ec104",
   "metadata": {},
   "source": [
    "# Plot And Visualise"
   ]
  },
  {
   "cell_type": "code",
   "execution_count": 93,
   "id": "deaf87f6",
   "metadata": {},
   "outputs": [
    {
     "data": {
      "image/png": "[encoded data removed]",
      "text/plain": [
       "<Figure size 640x480 with 1 Axes>"
      ]
     },
     "metadata": {},
     "output_type": "display_data"
    }
   ],
   "source": [
    "look_back = 100\n",
    "trainPredictPlot = np.empty_like(dataset_horsepower)\n",
    "trainPredictPlot[:,:] = np.nan\n",
    "trainPredictPlot[look_back:len(train_predict) + look_back, :] = train_predict\n",
    "testPredictPlot = np.empty_like(dataset_horsepower)\n",
    "testPredictPlot[:,:] = np.nan\n",
    "testPredictPlot[len(train_predict) + (look_back * 2)+1:len(dataset_horsepower) - 1, :] = test_predict\n",
    "plt.plot(scaler.inverse_transform(dataset_horsepower))\n",
    "plt.plot(trainPredictPlot)\n",
    "plt.plot(testPredictPlot)\n",
    "plt.show()"
   ]
  },
  {
   "cell_type": "code",
   "execution_count": null,
   "id": "f4544bd3",
   "metadata": {},
   "outputs": [],
   "source": []
  }
 ],
 "metadata": {
  "kernelspec": {
   "display_name": "Python 3 (ipykernel)",
   "language": "python",
   "name": "python3"
  },
  "language_info": {
   "codemirror_mode": {
    "name": "ipython",
    "version": 3
   },
   "file_extension": ".py",
   "mimetype": "text/x-python",
   "name": "python",
   "nbconvert_exporter": "python",
   "pygments_lexer": "ipython3",
   "version": "3.11.3"
  }
 },
 "nbformat": 4,
 "nbformat_minor": 5
}
